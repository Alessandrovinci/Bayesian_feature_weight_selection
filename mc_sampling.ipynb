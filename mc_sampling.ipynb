{
 "cells": [
  {
   "cell_type": "code",
   "execution_count": null,
   "metadata": {},
   "outputs": [],
   "source": [
    "import os \n",
    "import sys\n",
    "import json\n",
    "import pyspark.sql.functions as F\n",
    "import pyspark.sql.types as Types\n",
    "from pyspark.sql.window import Window\n",
    "import pandas as pd\n",
    "import datetime\n",
    "import itertools\n",
    "import copy\n",
    "import time\n",
    "import cx_Oracle\n",
    "import pymc3 as pm\n",
    "import arviz as az\n",
    "import numpy as np\n",
    "import matplotlib.pyplot as plt\n",
    "import matplotlib.cm as cm\n",
    "import statsmodels.formula.api as smf\n",
    "import seaborn as sns\n",
    "from sklearn import preprocessing\n",
    "from sklearn.model.selection import train_test_split\n",
    "from sklearn.metrics import (roc_curve, roc_auc_score, confusion_matrix, accuracy_score, f1_score, precision recall_ curve)"
   ]
  },
  {
   "cell_type": "code",
   "execution_count": null,
   "metadata": {},
   "outputs": [],
   "source": [
    "#DISPLAY DATA\n",
    "total = len(data)\n",
    "plt.figure(figsize=(7,5)) \n",
    "g = sns.countplot(x = 'Interesting', data = data)\n",
    "g.set_ylabel( 'Count', fontsize=14)\n",
    "for p in g.patches: \n",
    "    height = p.get_height()\n",
    "    g.text(p.get_x()+p.get_width()/2.,\n",
    "        height + 1.5,\n",
    "        '{:1.2f%'.format(height/total*100),\n",
    "        ha=\"center\", fontsize=14, fontweight='bold')\n",
    "    pit.margins(y=0.1)\n",
    "    plt.show() "
   ]
  },
  {
   "cell_type": "code",
   "execution_count": null,
   "metadata": {},
   "outputs": [],
   "source": [
    "n_fts = len(data.columns)\n",
    "colors = cm.rainbow(np.linspace(0, 1, n_fts))\n",
    "data.drop('Interesting' ,axis=1).corrwith(data.Interesting).sort_values(ascending=True).plot(kind='barh',color=colors, figsize=(12, 6))\n",
    "plt.title( 'Correlation to Target (Interesting)')\n",
    "plt.show() \n",
    "print ('\\n', data.drop( 'Interesting', axis=1) corrwith(data.Interesting).sort_values(ascending=False))"
   ]
  },
  {
   "cell_type": "code",
   "execution_count": null,
   "metadata": {},
   "outputs": [],
   "source": [
    "from sklearn.model_selection import StratifiedShuffleSplit\n",
    "X = data.iloc[:,0: -1]\n",
    "y = data.iloc[:, -1] \n",
    "sss = StratifiedShuffleSplit(n_splits=2, test_size=0.05, random_state=0)\n",
    "train_index, test_index = next(sss.split(X, y))\n",
    "fig, axes = plt.subplots(1,2, figsize= (10,5))\n",
    "for split, title, ax in zip( [train_index, test_index], ['Train split','Test split'l, \n",
    "                            axes.flatten()) :\n",
    "    sns.countplot(y[split], ax=ax).set_title(title)   "
   ]
  },
  {
   "cell_type": "code",
   "execution_count": null,
   "metadata": {},
   "outputs": [],
   "source": [
    "with pm.Model() as binomial_ regression _model:\n",
    "    #Define Priors\n",
    "    beta_ Interesting\n",
    "    beta_feature1 = pm.TruncatedNormal('featurel', mu=1, sd =0.5, lower = 0, upper =1)\n",
    "    beta_feature2 = pm.TruncatedNormal('feature2', mu=1, sd =0.5, lower = 0, upper =1)\n",
    "    beta_feature3 = pm.TruncatedNormal('feature3', mu=1, sd =0.5, lower = 0, upper =1)\n",
    "    beta_feature4 = pm.TruncatedNormal('feature4', mu=1, sd =0.5, lower = 0, upper =1)\n",
    "    beta_feature5 = pm.TruncatedNormal('feature5', mu=1, sd =0.5, lower = 0, upper =1)\n",
    "    beta_feature6 = pm.TruncatedNormal('feature6', mu=1, sd =0.5, lower = 0, upper =1)\n",
    "    beta_feature7 = pm.TruncatedNormal('feature7', mu=1, sd =0.5, lower = 0, upper =1)\n",
    "    beta_feature8 = pm.TruncatedNormal('feature8', mu=1, sd =0.5, lower = 0, upper =1)\n",
    "    beta_feature9 = pm.TruncatedNormal('feature9', mu=1, sd =0.5, lower = 0, upper = 1)\n",
    "    beta_feature10 = pm.TruncatedNormal('feature10', mu=1, sd =0.5, lower = 0, upper 1) \n",
    "    \n",
    "    #Construct the model formula\n",
    "    formula = (beta_feature1 * data.featurel + beta_feature2 * data.feature2 + \n",
    "               beta_feature3 * data.feature3 + beta_feature4 * data.feature4 + \n",
    "               beta_feature5 * data.feature5 + beta_feature6 * data.feature6 + \n",
    "               beta_feature7 * data.feature7 + beta_feature8 * data.feature8 + \n",
    "               beta_feature9 * data.feature9 + beta_feature10 * data.feature10) / \n",
    "               (beta_featurel + beta_feature2 + beta_feature3 + beta_feature4 + beta_feature5 + beta_feature6 +\n",
    "             beta_feature7 + beta_feature8 + beta_feature9 + beta_feature10)\n",
    "        \n",
    "    #Compute raw scores as deterministic purely for tracking\n",
    "    raw = pm.Deterministic('raw' ,formula)\n",
    "    #transform formula values with Link function\n",
    "    p = pm.Deterministic('p', pm.math.invlogit(raw))\n",
    "    #Create prior for measurable outcome\n",
    "    outcome = pm.Bernoulli ('pred_interesting', p, observed = data.Interesting)\n",
    "    `"
   ]
  },
  {
   "cell_type": "code",
   "execution_count": null,
   "metadata": {},
   "outputs": [],
   "source": [
    "# MC SAMPLING\n",
    "with binomial_ regression _model:\n",
    "    trace = pm.sample(tune = 2000, draws= 100, chains=2, init = 'adapt_diag' ,cores=2)\n",
    "    "
   ]
  },
  {
   "cell_type": "code",
   "execution_count": null,
   "metadata": {},
   "outputs": [],
   "source": [
    "# check trace of sampling\n",
    "pm.plot_trace(trace)"
   ]
  },
  {
   "cell_type": "code",
   "execution_count": null,
   "metadata": {},
   "outputs": [],
   "source": [
    "# RANK THE FEATURES\n",
    "tt = pm.summary(trace)\n",
    "tt.loc[['featurel','feature2','feature3','feature4',' feature5','feature6',\n",
    "        'feature7','feature8','feature9','feature10'],:]['mean'].sort_values(ascending = False)"
   ]
  },
  {
   "cell_type": "code",
   "execution_count": null,
   "metadata": {},
   "outputs": [],
   "source": [
    "# see confidence of information"
   ]
  },
  {
   "cell_type": "code",
   "execution_count": null,
   "metadata": {},
   "outputs": [],
   "source": [
    "b = trace['feature1']\n",
    "1b, ub = np.percentile(b, 2.5), np.percentile(b, 97.5)\n",
    "print(f'P({lb:.3f} < Odds Ratio - featurel ‹ {ub:.3f}) = 0.95')\n",
    "\n",
    "b = trace['feature2']\n",
    "1b, ub = np. percentile(b, 2.5), np.percentile(b, 97.5)\n",
    "print(f'P({lb:.3f} < Odds Ratio - feature2 < {ub:.3f}) = 0.95')\n",
    "\n",
    "b = trace['feature3']\n",
    "1b, ub = np. percentile(b, 2.5), np.percentile(b, 97.5)\n",
    "print(f'P({lb:.3f} < Odds Ratio - feature3 ‹ {ub:.3f}) = 0.95')\n",
    "\n",
    "b = trace['feature4' ]\n",
    "1b, ub = np. percentile(b, 2.5), np.percentile(b, 97.5)\n",
    "print(f'P({1b:.3f} < Odds Ratio - feature4 ‹ {ub:3f}) = 0.95')\n",
    "\n",
    "b = trace['feature5']\n",
    "1b, ub = np.percentile(b, 2.5), np.percentile(b, 97.5)\n",
    "print(f'P({lb:.3f} < Odds Ratio - feature5 ‹ {ub:.3f}) = 0.95')\n",
    "\n",
    "b = trace['feature6'] \n",
    "1b, ub = np. percentile(b, 2.5), np.percentile(b, 97.5)\n",
    "print(f'P({1b:.3f} < Odds Ratio - feature6 ‹ {ub:.3f}) = 0.95')\n",
    "\n",
    "b = trace['feature7']\n",
    "1b, ub = np.percentile(b, 2.5), np.percentile(b,9/.5)\n",
    "print(f'P({1b:.3f} < Odds Ratio - feature7 < (ub:.3f}) = 0.95')\n",
    "      \n",
    "b = trace['feature8']\n",
    "1b, ub = np. percentile(b, 2.5), np.percentile(b, 97.5)\n",
    "print(f'P({1b: 3f} < Odds Ratio - feature8 < {ub:.3f}) = 0.95')\n",
    "\n",
    "b = trace['feature9']\n",
    "1b, ub = np.percentile(b, 2.5), np.percentile(b, 97.5)\n",
    "print(f'P({lb:.3f} < Odds Ratio - featureg, < {ub:.3f}) = 0.95')\n",
    "\n",
    "b = trace['feature10']\n",
    "1b, ub = np. percentile(b, 2.5), np.percentile(b, 97.5) \n",
    "print(f'P({1b:.3f} < Odds Ratio - feature10 ‹ {ub:.3f}) = 0.95')\n"
   ]
  }
 ],
 "metadata": {
  "kernelspec": {
   "display_name": "Python 3",
   "language": "python",
   "name": "python3"
  },
  "language_info": {
   "codemirror_mode": {
    "name": "ipython",
    "version": 3
   },
   "file_extension": ".py",
   "mimetype": "text/x-python",
   "name": "python",
   "nbconvert_exporter": "python",
   "pygments_lexer": "ipython3",
   "version": "3.8.3"
  }
 },
 "nbformat": 4,
 "nbformat_minor": 4
}
